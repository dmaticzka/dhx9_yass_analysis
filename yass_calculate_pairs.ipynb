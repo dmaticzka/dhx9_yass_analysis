{
 "cells": [
  {
   "cell_type": "markdown",
   "metadata": {},
   "source": [
    "# Calculate YASS pairs for all genes"
   ]
  },
  {
   "cell_type": "code",
   "execution_count": null,
   "metadata": {},
   "outputs": [],
   "source": [
    "%%bash\n",
    "\n",
    "# extract gene coordinates\n",
    "\n",
    "zcat /home/maticzkd/genomes/hg19/Homo_sapiens.GRCh37.75.gtf.gz |\n",
    "awk '$3==\"gene\"' | \n",
    "awk 'BEGIN{OFS=\"\\t\"}{print \"chr\"$1,$4-1,$5,$10\"_\"$12,255,$7}' | \n",
    "tr -d '\";' > genes.bed\n",
    "\n",
    "wc -l genes.bed"
   ]
  },
  {
   "cell_type": "code",
   "execution_count": null,
   "metadata": {},
   "outputs": [],
   "source": [
    "%%bash\n",
    "\n",
    "# extract genes with Alu annotation\n",
    "\n",
    "bedtools intersect -u \\\n",
    "-a genes.bed \\\n",
    "-b /home/maticzkd/genomes/hg19/RepeatMasker_hg19_20161020_Alu.bed \\\n",
    "> genes_with_alu.bed\n",
    "\n",
    "wc -l genes_with_alu.bed"
   ]
  },
  {
   "cell_type": "code",
   "execution_count": null,
   "metadata": {},
   "outputs": [],
   "source": [
    "%%bash\n",
    "\n",
    "# get sequences\n",
    "\n",
    "time bedtools getfasta \\\n",
    "-fi /home/maticzkd/genomes/hg19.fa \\\n",
    "-bed genes_with_alu.bed \\\n",
    "-s > genes_with_alu.fa\n",
    "\n",
    "grep -c '^>' genes_with_alu.fa"
   ]
  },
  {
   "cell_type": "code",
   "execution_count": null,
   "metadata": {},
   "outputs": [],
   "source": [
    "%%bash\n",
    "\n",
    "# split into individual fastas for processing\n",
    "\n",
    "rm -rf fasplitroot\n",
    "mkdir -p fasplitroot\n",
    "time faSplit byName genes_with_alu.fa fasplitroot/"
   ]
  },
  {
   "cell_type": "code",
   "execution_count": null,
   "metadata": {},
   "outputs": [],
   "source": [
    "%%bash\n",
    "\n",
    "ls -l fasplitroot/*.fa | wc -l"
   ]
  },
  {
   "cell_type": "code",
   "execution_count": null,
   "metadata": {},
   "outputs": [],
   "source": [
    "%%bash\n",
    "\n",
    "# run yass for all genes\n",
    "\n",
    "rm -rf yassbed\n",
    "mkdir -p yassbed\n",
    "\n",
    "time for FA in fasplitroot/*.fa\n",
    "do\n",
    "    BASE=`basename $FA`\n",
    "    OUT=yassbed/${BASE%%.fa}_yass.bed\n",
    "    >&2 echo \"\" \n",
    "    >&2 echo \"\"\n",
    "    >&2 echo \"####################################################################################################\"\n",
    "    >&2 echo $BASE\n",
    "    yass $FA -d 4 -r 1 | grep -v \"^track\" | gzip > $OUT.gz \n",
    "done 2> yass.log"
   ]
  },
  {
   "cell_type": "code",
   "execution_count": null,
   "metadata": {},
   "outputs": [],
   "source": [
    "%%bash\n",
    "\n",
    "# convert to yass results to bed format\n",
    "# do some filtering of irrelevant alignments to reduce data size\n",
    "\n",
    "(\n",
    "zcat yassbed/*.bed.gz | head -n 1\n",
    "zcat yassbed/*.bed.gz | grep -v '^#' | awk '$3-$2>=50 && $6-$5>=50 && $2-$6+1<=10000'\n",
    ") | gzip > yassbed.gz"
   ]
  },
  {
   "cell_type": "code",
   "execution_count": null,
   "metadata": {},
   "outputs": [],
   "source": [
    "%%bash\n",
    "\n",
    "# convert to genomic coordinates in bed12 format\n",
    "\n",
    "time ./yass_reverse_repeats_to_bed12.R \\\n",
    "-i yassbed.gz -o \"\" | \n",
    "sort -k1,1 -k2,2n --compress-program=gzip | \\\n",
    "uniq | gzip > yassbed12_genomic.bed.gz"
   ]
  }
 ],
 "metadata": {
  "kernelspec": {
   "display_name": "Python 2",
   "language": "python",
   "name": "python2"
  },
  "language_info": {
   "codemirror_mode": {
    "name": "ipython",
    "version": 2
   },
   "file_extension": ".py",
   "mimetype": "text/x-python",
   "name": "python",
   "nbconvert_exporter": "python",
   "pygments_lexer": "ipython2",
   "version": "2.7.14"
  }
 },
 "nbformat": 4,
 "nbformat_minor": 1
}
