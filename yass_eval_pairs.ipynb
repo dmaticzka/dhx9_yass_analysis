{
 "cells": [
  {
   "cell_type": "code",
   "execution_count": null,
   "metadata": {
    "scrolled": true
   },
   "outputs": [],
   "source": [
    "%env YASSGENES=../161027_yass_allgenes/yassbed12_genomic.bed.gz"
   ]
  },
  {
   "cell_type": "code",
   "execution_count": null,
   "metadata": {
    "scrolled": true
   },
   "outputs": [],
   "source": [
    "%env YASSOPEAKS=../161027_yass_uvclap_outsidegenes/yassbed12_genomic.bed.gz"
   ]
  },
  {
   "cell_type": "code",
   "execution_count": null,
   "metadata": {},
   "outputs": [],
   "source": [
    "%env PEAKS=../161027_yass_uvclap_outsidegenes/peaks.bed"
   ]
  },
  {
   "cell_type": "code",
   "execution_count": null,
   "metadata": {
    "scrolled": true
   },
   "outputs": [],
   "source": [
    "%env GENES=../161027_yass_uvclap_outsidegenes/genes.bed"
   ]
  },
  {
   "cell_type": "code",
   "execution_count": null,
   "metadata": {},
   "outputs": [],
   "source": [
    "%env OPEAKSREGIONS=../161027_yass_uvclap_outsidegenes/peaks_outside_genes_slopped_merged.bed"
   ]
  },
  {
   "cell_type": "code",
   "execution_count": null,
   "metadata": {
    "scrolled": true
   },
   "outputs": [],
   "source": [
    "%%bash\n",
    "\n",
    "# get precalculated YASS results\n",
    "\n",
    "cp -v $YASSGENES yass_ongenes.bed.gz\n",
    "cp -v $YASSOPEAKS yass_onotherpeaks.bed.gz\n",
    "cp -v $PEAKS peaks.bed\n",
    "cp -v $GENES genes.bed\n",
    "cp -v $OPEAKSREGIONS ."
   ]
  },
  {
   "cell_type": "code",
   "execution_count": null,
   "metadata": {
    "scrolled": true
   },
   "outputs": [],
   "source": [
    "%%bash\n",
    "\n",
    "wc -l peaks.bed genes.bed"
   ]
  },
  {
   "cell_type": "code",
   "execution_count": null,
   "metadata": {},
   "outputs": [],
   "source": [
    "%%bash\n",
    "\n",
    "# assign unique ids to YASS pairs and split into q and s parts\n",
    "\n",
    "for BEDGZ in yass_onotherpeaks.bed.gz yass_ongenes.bed.gz \n",
    "do\n",
    "    zcat $BEDGZ | awk 'BEGIN{OFS=\"\\t\"}/^#/{print}!/^#/{$4=\"yasspair_\"i++\" \"$4; print}' | gzip > $BEDGZ.uid\n",
    "    # extract first alignment\n",
    "    zcat $BEDGZ.uid |\n",
    "    awk 'BEGIN{OFS=\"\\t\"}!/^#/{\n",
    "        chr=$1; start=$14; end=$15; id=$4; score=$18; strand=$7; print chr,start,end,id,score,strand\n",
    "    }' | sort -k1,1 -k2,2n | gzip > $BEDGZ.partsA.gz\n",
    "    # extract second alignment\n",
    "    zcat $BEDGZ.uid |\n",
    "    awk 'BEGIN{OFS=\"\\t\"}!/^#/{\n",
    "        chr=$1; start=$16; end=$17; id=$4; score=$18; strand=$7; print chr,start,end,id,score,strand\n",
    "    }' | sort -k1,1 -k2,2n | gzip > $BEDGZ.partsB.gz\n",
    "done"
   ]
  },
  {
   "cell_type": "code",
   "execution_count": null,
   "metadata": {},
   "outputs": [],
   "source": [
    "%%bash\n",
    "\n",
    "ls *.parts?.gz"
   ]
  },
  {
   "cell_type": "code",
   "execution_count": null,
   "metadata": {},
   "outputs": [],
   "source": [
    "%%bash\n",
    "\n",
    "# select genes with peak and at least 3 Alu elements\n",
    "\n",
    "bedtools intersect -s -u -a genes.bed -b peaks.bed |\n",
    "bedtools sort > genes_with_peak.bed\n",
    "wc -l genes_with_peak.bed\n",
    "\n",
    "bedtools intersect -c \\\n",
    "-a genes_with_peak.bed \\\n",
    "-b /home/maticzkd/genomes/hg19/RepeatMasker_hg19_20161020_Alu.bed | \\\n",
    "awk '$7>=3' | \\eval_uvclap_updatealudists_v2\n",
    "cut -f 1-6 > genes_with_peak_minalus.bed\n",
    "wc -l genes_with_peak_minalus.bed"
   ]
  },
  {
   "cell_type": "code",
   "execution_count": null,
   "metadata": {},
   "outputs": [],
   "source": [
    "%%bash\n",
    "\n",
    "# select outside regions with at least 3 Alu elements\n",
    "\n",
    "bedtools intersect -c \\\n",
    "-a peaks_outside_genes_slopped_merged.bed \\\n",
    "-b /home/maticzkd/genomes/hg19/RepeatMasker_hg19_20161020_Alu.bed | \\\n",
    "awk '$7>=3' | \\\n",
    "cut -f 1-6 > peaks_outside_genes_slopped_merged_minalus.bed\n",
    "\n",
    "wc -l peaks_outside_genes_slopped_merged_minalus.bed\n",
    "wc -l peaks_outside_genes_slopped_merged.bed"
   ]
  },
  {
   "cell_type": "code",
   "execution_count": null,
   "metadata": {},
   "outputs": [],
   "source": [
    "%%bash\n",
    "\n",
    "# assign unique ids to Alus\n",
    "cat /home/maticzkd/genomes/hg19/RepeatMasker_hg19_20161020_Alu.bed | \\\n",
    "awk 'BEGIN{OFS=\"\\t\"}{$4=$4\"_id_\"i++; print}' |\n",
    "gzip > alus_uid.bed.gz"
   ]
  },
  {
   "cell_type": "code",
   "execution_count": null,
   "metadata": {},
   "outputs": [],
   "source": [
    "%%bash\n",
    "\n",
    "# Alus on selected genes\n",
    "bedtools intersect -u \\\n",
    "-a alus_uid.bed.gz \\\n",
    "-b genes_with_peak_minalus.bed |\n",
    "gzip > alus_uid_ongenes.bed.gz"
   ]
  },
  {
   "cell_type": "code",
   "execution_count": null,
   "metadata": {},
   "outputs": [],
   "source": [
    "%%bash\n",
    "\n",
    "# retrieve all alus that are overlapped at least 75% of their length by a yass alignment\n",
    "# and the corresponding yass pairs\n",
    "\n",
    "bedtools intersect -loj -f 0.75 \\\n",
    "-a alus_uid_ongenes.bed.gz \\\n",
    "-b yass_ongenes.bed.gz.partsA.gz | gzip > alus_and_yass_pairs_ongenesA.bed.gz"
   ]
  },
  {
   "cell_type": "code",
   "execution_count": null,
   "metadata": {},
   "outputs": [],
   "source": [
    "%%bash\n",
    "\n",
    "# retrieve all alus that are overlapped at least 75% of their length by a yass alignment\n",
    "# and the corresponding yass pairs\n",
    "\n",
    "bedtools intersect -loj -f 0.75 \\\n",
    "-a alus_uid_ongenes.bed.gz \\\n",
    "-b yass_ongenes.bed.gz.partsB.gz | gzip > alus_and_yass_pairs_ongenesB.bed.gz"
   ]
  },
  {
   "cell_type": "code",
   "execution_count": null,
   "metadata": {},
   "outputs": [],
   "source": [
    "%%bash\n",
    "\n",
    "# Alus on outside regions\n",
    "bedtools intersect -u \\\n",
    "-a alus_uid.bed.gz \\\n",
    "-b peaks_outside_genes_slopped_merged_minalus.bed |\n",
    "gzip > alus_uid_offgenes.bed.gz"
   ]
  },
  {
   "cell_type": "code",
   "execution_count": null,
   "metadata": {},
   "outputs": [],
   "source": [
    "%%bash\n",
    "\n",
    "# retrieve all alus that are overlapped at least 75% of their length by a yass alignment\n",
    "# and the corresponding yass pairs\n",
    "\n",
    "bedtools intersect -loj -f 0.75 \\\n",
    "-a alus_uid_offgenes.bed.gz \\\n",
    "-b yass_ongenes.bed.gz.partsA.gz | gzip > alus_and_yass_pairs_outsideA.bed.gz"
   ]
  },
  {
   "cell_type": "code",
   "execution_count": null,
   "metadata": {},
   "outputs": [],
   "source": [
    "%%bash\n",
    "\n",
    "# retrieve all alus that are overlapped at least 75% of their length by a yass alignment\n",
    "# and the corresponding yass pairs\n",
    "\n",
    "bedtools intersect -loj -f 0.75 \\\n",
    "-a alus_uid_offgenes.bed.gz \\\n",
    "-b yass_ongenes.bed.gz.partsB.gz | gzip > alus_and_yass_pairs_outsideB.bed.gz"
   ]
  },
  {
   "cell_type": "code",
   "execution_count": null,
   "metadata": {},
   "outputs": [],
   "source": [
    "%%bash\n",
    "\n",
    "# no memory footprint calculation of minimal distance yass pairs\n",
    "\n",
    "for F in alus_and_yass_pairs_ongenes alus_and_yass_pairs_outside\n",
    "do\n",
    "\n",
    "for EXT in A.bed.gz B.bed.gz\n",
    "do\n",
    "    zcat $F$EXT | \n",
    "    sort -k10,10 | \n",
    "    awk '$10!=\".\"' | \n",
    "    cut -f 1,2,3,4,6,10 > $F$EXT.cleaned\n",
    "done\n",
    "\n",
    "join ${F}A.bed.gz.cleaned ${F}B.bed.gz.cleaned -j 6 -t $'\\t' | \n",
    "awk 'BEGIN{OFS=\"\\t\"} \\\n",
    "$5!=$10{ \\\n",
    "    da=$3-$9; \\\n",
    "    db=$8-$4; \\\n",
    "    distance = (da > db ? da : db); \\\n",
    "    print $2,$3,$4,$5,distance,$6,$1; \\\n",
    "    print $7,$8,$9,$10,distance,$11,$1}' | \n",
    "    sort -k4,4 -k5,5n |\n",
    "awk 'BEGIN{OFS=\"\\t\"}h[$4]==0{print $1,$2,$3,$4\"$\"$7,$5,$6; h[$4]=1}' > $F.bed.gz.mindist.bed\n",
    "#awk '{if (h[$4!=1]) {print $0}}'\n",
    "\n",
    "done\n",
    "    \n",
    "#print \"ids\",$6,$11, $4,$5, $9,$10, da, db, distance} \\"
   ]
  },
  {
   "cell_type": "code",
   "execution_count": null,
   "metadata": {},
   "outputs": [],
   "source": [
    "%%bash\n",
    "\n",
    "# for each repeat, determine if hit by peak slopped by 100 nt\n",
    "\n",
    "cat peaks.bed | \n",
    "bedtools slop -g ~/genomes/hg19.genome -i - -b 100 |\n",
    "bedtools intersect -u \\\n",
    "-a alus_and_yass_pairs_ongenes.bed.gz.mindist.bed -b - > genes_hit.bed\n",
    "\n",
    "cat peaks.bed | \n",
    "bedtools slop -g ~/genomes/hg19.genome -i - -b 100 |\n",
    "bedtools intersect -v \\\n",
    "-a alus_and_yass_pairs_ongenes.bed.gz.mindist.bed -b - > genes_nohit.bed\n",
    "\n",
    "cat peaks.bed | \n",
    "bedtools slop -g ~/genomes/hg19.genome -i - -b 100 |\n",
    "bedtools intersect -u \\\n",
    "-a alus_and_yass_pairs_outside.bed.gz.mindist.bed -b - > outside_hit.bed\n",
    "\n",
    "cat peaks.bed | \n",
    "bedtools slop -g ~/genomes/hg19.genome -i - -b 100 |\n",
    "bedtools intersect -v \\\n",
    "-a alus_and_yass_pairs_outside.bed.gz.mindist.bed -b - > outside_nohit.bed\n",
    "\n",
    "wc -l genes_hit.bed\n",
    "wc -l genes_nohit.bed\n",
    "wc -l outside_hit.bed\n",
    "wc -l outside_nohit.bed"
   ]
  },
  {
   "cell_type": "code",
   "execution_count": null,
   "metadata": {},
   "outputs": [],
   "source": [
    "import rpy2\n",
    "%load_ext rpy2.ipython"
   ]
  },
  {
   "cell_type": "code",
   "execution_count": null,
   "metadata": {
    "scrolled": true
   },
   "outputs": [],
   "source": [
    "%%R\n",
    "\n",
    "library(dplyr)"
   ]
  },
  {
   "cell_type": "code",
   "execution_count": null,
   "metadata": {},
   "outputs": [],
   "source": [
    "%%R\n",
    "\n",
    "# load targeted and non-targeted Alus with distances\n",
    "\n",
    "d <- bind_rows(\n",
    "    read.table(\n",
    "        \"genes_hit.bed\", \n",
    "        sep=\"\\t\",\n",
    "        col.names=c(\"chr\",\"start\",\"stop\",\"id\",\"score\",\"strand\")) %>%\n",
    "        mutate(source=\"genes\", hit=T),\n",
    "    read.table(\n",
    "        \"genes_nohit.bed\", \n",
    "        sep=\"\\t\",\n",
    "        col.names=c(\"chr\",\"start\",\"stop\",\"id\",\"score\",\"strand\")) %>%\n",
    "        mutate(source=\"genes\",hit=F),\n",
    "    read.table(\n",
    "        \"outside_hit.bed\", \n",
    "        sep=\"\\t\",\n",
    "        col.names=c(\"chr\",\"start\",\"stop\",\"id\",\"score\",\"strand\")) %>%\n",
    "        mutate(source=\"outside\", hit=T),\n",
    "    read.table(\n",
    "        \"outside_nohit.bed\", \n",
    "        sep=\"\\t\",\n",
    "        col.names=c(\"chr\",\"start\",\"stop\",\"id\",\"score\",\"strand\")) %>%\n",
    "        mutate(source=\"outside\",hit=F)\n",
    ") %>%\n",
    "select(id,score,source,hit) %>%\n",
    "rowwise() %>%\n",
    "#will be evaluated in external plotting function\n",
    "#mutate(score=max(0,score)) %>%\n",
    "mutate(hasdistance=T)\n",
    "\n",
    "d %>% summary"
   ]
  },
  {
   "cell_type": "code",
   "execution_count": null,
   "metadata": {},
   "outputs": [],
   "source": [
    "%%R\n",
    "\n",
    "# fractions of Alus with and without distance\n",
    "\n",
    "d %>%\n",
    "group_by(source, hit) %>%\n",
    "summarise(\n",
    "    fraction_paired = sum(hasdistance) / n(),\n",
    "    n_paired = sum(hasdistance),\n",
    "    n = n())"
   ]
  },
  {
   "cell_type": "code",
   "execution_count": null,
   "metadata": {
    "scrolled": true
   },
   "outputs": [],
   "source": [
    "%%R -h 400 -w 800 -u px\n",
    "\n",
    "# compare distances of alus with and without DHX9 binding site\n",
    "\n",
    "typestr <- data_frame(\n",
    "    hit=c(T,\n",
    "          F,\n",
    "          T,\n",
    "          F), \n",
    "    source=c(\"genes\",\n",
    "             \"genes\",\n",
    "             \"outside\",\n",
    "             \"outside\"), \n",
    "    type=c(\n",
    "        \"DHX9-targeted Alu on gene\", \n",
    "        \"non-targeted Alu on gene\",\n",
    "        \"DHX9-targeted Alu outside of gene\",\n",
    "        \"non-targeted Alu outside of gene\"))\n",
    "\n",
    "typestr %>% print"
   ]
  },
  {
   "cell_type": "code",
   "execution_count": null,
   "metadata": {},
   "outputs": [],
   "source": [
    "%%R\n",
    "\n",
    "d_plotaludist <- inner_join(\n",
    "    filter(d,hasdistance),\n",
    "    typestr,\n",
    "    by=c(\"source\", \"hit\"))"
   ]
  },
  {
   "cell_type": "code",
   "execution_count": null,
   "metadata": {
    "scrolled": true
   },
   "outputs": [],
   "source": [
    "%%R -h 400 -w 800 -u px\n",
    "\n",
    "library(ggplot2)\n",
    "\n",
    "p_aludist <- ggplot(d_plotaludist) + \n",
    "geom_density(aes(score, color=type, linetype=hit)) +\n",
    "ggtitle(\"Strong DHX9 signal is associated with close complementary Alu pairs\") +\n",
    "xlab(\"distance to next reverse-complementary Alu\")\n",
    "\n",
    "ggsave(\"paired_alu_distances.png\", h=4, w=7)\n",
    "ggsave(\"paired_alu_distances.pdf\", h=4, w=7)\n",
    "\n",
    "p_aludist + scale_x_log10(limits=c(1,10000))"
   ]
  },
  {
   "cell_type": "code",
   "execution_count": null,
   "metadata": {},
   "outputs": [],
   "source": [
    "%%R\n",
    "\n",
    "# summary\n",
    "\n",
    "d_plotaludist %>%\n",
    "group_by(hit, type) %>%\n",
    "summarise(\n",
    "    avg=mean(score), \n",
    "    median=median(score),\n",
    "    count=n()) %>% print"
   ]
  },
  {
   "cell_type": "code",
   "execution_count": null,
   "metadata": {},
   "outputs": [],
   "source": [
    "%%R\n",
    "\n",
    "d_plotaludist %>% head %>% print\n",
    "\n",
    "filter(d_plotaludist, hit, source==\"gene\") %>% nrow"
   ]
  },
  {
   "cell_type": "code",
   "execution_count": null,
   "metadata": {},
   "outputs": [],
   "source": [
    "%%R\n",
    "\n",
    "# compare hit distances ongene and offgene\n",
    "\n",
    "t <- filter(d_plotaludist, hit)\n",
    "\n",
    "wilcox.test(t$score~t$source) "
   ]
  },
  {
   "cell_type": "code",
   "execution_count": null,
   "metadata": {
    "scrolled": true
   },
   "outputs": [],
   "source": [
    "%%R\n",
    "\n",
    "# compare hit distances hit and nonhit ongene\n",
    "\n",
    "t <- filter(d_plotaludist, source==\"genes\")\n",
    "\n",
    "wilcox.test(t$score~t$hit) "
   ]
  },
  {
   "cell_type": "code",
   "execution_count": null,
   "metadata": {},
   "outputs": [],
   "source": [
    "%%R\n",
    "\n",
    "# write table for further plotting\n",
    "\n",
    "write.table(\n",
    "    mutate(d_plotaludist, experiment=\"uvCLAP DHX9\"),\n",
    "    \"aludists_uvCLAP-DHX9.csv\",\n",
    "    quote=F,\n",
    "    sep=\"\\t\",\n",
    "    row.names=F)"
   ]
  }
 ],
 "metadata": {
  "kernelspec": {
   "display_name": "Python 2",
   "language": "python",
   "name": "python2"
  },
  "language_info": {
   "codemirror_mode": {
    "name": "ipython",
    "version": 2
   },
   "file_extension": ".py",
   "mimetype": "text/x-python",
   "name": "python",
   "nbconvert_exporter": "python",
   "pygments_lexer": "ipython2",
   "version": "2.7.14"
  }
 },
 "nbformat": 4,
 "nbformat_minor": 1
}
